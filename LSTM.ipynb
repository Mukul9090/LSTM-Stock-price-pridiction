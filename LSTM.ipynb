{
  "nbformat": 4,
  "nbformat_minor": 0,
  "metadata": {
    "colab": {
      "name": "LSTM.ipynb",
      "provenance": [],
      "collapsed_sections": []
    },
    "kernelspec": {
      "name": "python3",
      "display_name": "Python 3"
    },
    "language_info": {
      "name": "python"
    },
    "accelerator": "GPU"
  },
  "cells": [
    {
      "cell_type": "code",
      "metadata": {
        "id": "n63Lk9vHjeVY"
      },
      "source": [
        "\n",
        "import tensorflow as tf\n",
        "import pandas as pd\n",
        "import numpy as np\n",
        "from keras.layers.wrappers import TimeDistributed\n",
        "import pandas as pd\n",
        "import numpy as np\n",
        "import keras\n",
        "from keras.models import Sequential\n",
        "from keras.layers import Dense, LSTM,Dropout,Bidirectional"
      ],
      "execution_count": 20,
      "outputs": []
    },
    {
      "cell_type": "code",
      "metadata": {
        "id": "Upn5NbymjxzR"
      },
      "source": [
        "import pandas as pd\n",
        "import numpy as np \n",
        "from PIL import Image\n",
        "import os\n",
        "from glob import glob \n",
        "import statsmodels.api as sm\n",
        "\n",
        "from sklearn.preprocessing import StandardScaler\n",
        "from tensorflow.keras.preprocessing.image import ImageDataGenerator\n",
        "import os \n",
        "import matplotlib.pyplot as plt\n",
        "from PIL import Image, ImageOps\n"
      ],
      "execution_count": 21,
      "outputs": []
    },
    {
      "cell_type": "code",
      "metadata": {
        "colab": {
          "base_uri": "https://localhost:8080/"
        },
        "id": "FqWLLqakj2um",
        "outputId": "c74a2eb3-ff8c-4da8-f1f2-ade1cd3930e8"
      },
      "source": [
        "from google.colab import drive\n",
        "drive.mount('/content/drive')"
      ],
      "execution_count": 22,
      "outputs": [
        {
          "output_type": "stream",
          "name": "stdout",
          "text": [
            "Drive already mounted at /content/drive; to attempt to forcibly remount, call drive.mount(\"/content/drive\", force_remount=True).\n"
          ]
        }
      ]
    },
    {
      "cell_type": "code",
      "metadata": {
        "id": "7ocZvTUljx9Y"
      },
      "source": [
        "df=pd.read_csv('/content/drive/MyDrive/Colab Notebooks/AAPL.csv')"
      ],
      "execution_count": 23,
      "outputs": []
    },
    {
      "cell_type": "code",
      "metadata": {
        "id": "EGgIh1Efw7iE",
        "colab": {
          "base_uri": "https://localhost:8080/",
          "height": 203
        },
        "outputId": "9b458d71-231b-488a-c119-627546131c60"
      },
      "source": [
        "df.head(5)"
      ],
      "execution_count": 24,
      "outputs": [
        {
          "output_type": "execute_result",
          "data": {
            "text/html": [
              "<div>\n",
              "<style scoped>\n",
              "    .dataframe tbody tr th:only-of-type {\n",
              "        vertical-align: middle;\n",
              "    }\n",
              "\n",
              "    .dataframe tbody tr th {\n",
              "        vertical-align: top;\n",
              "    }\n",
              "\n",
              "    .dataframe thead th {\n",
              "        text-align: right;\n",
              "    }\n",
              "</style>\n",
              "<table border=\"1\" class=\"dataframe\">\n",
              "  <thead>\n",
              "    <tr style=\"text-align: right;\">\n",
              "      <th></th>\n",
              "      <th>Date</th>\n",
              "      <th>Open</th>\n",
              "      <th>High</th>\n",
              "      <th>Low</th>\n",
              "      <th>Close</th>\n",
              "      <th>Adj Close</th>\n",
              "      <th>Volume</th>\n",
              "    </tr>\n",
              "  </thead>\n",
              "  <tbody>\n",
              "    <tr>\n",
              "      <th>0</th>\n",
              "      <td>2020-08-14</td>\n",
              "      <td>114.830002</td>\n",
              "      <td>115.000000</td>\n",
              "      <td>113.044998</td>\n",
              "      <td>114.907501</td>\n",
              "      <td>114.173164</td>\n",
              "      <td>165565200</td>\n",
              "    </tr>\n",
              "    <tr>\n",
              "      <th>1</th>\n",
              "      <td>2020-08-17</td>\n",
              "      <td>116.062500</td>\n",
              "      <td>116.087502</td>\n",
              "      <td>113.962502</td>\n",
              "      <td>114.607498</td>\n",
              "      <td>113.875069</td>\n",
              "      <td>119561600</td>\n",
              "    </tr>\n",
              "    <tr>\n",
              "      <th>2</th>\n",
              "      <td>2020-08-18</td>\n",
              "      <td>114.352501</td>\n",
              "      <td>116.000000</td>\n",
              "      <td>114.007500</td>\n",
              "      <td>115.562500</td>\n",
              "      <td>114.823975</td>\n",
              "      <td>105633600</td>\n",
              "    </tr>\n",
              "    <tr>\n",
              "      <th>3</th>\n",
              "      <td>2020-08-19</td>\n",
              "      <td>115.982498</td>\n",
              "      <td>117.162498</td>\n",
              "      <td>115.610001</td>\n",
              "      <td>115.707497</td>\n",
              "      <td>114.968048</td>\n",
              "      <td>145538000</td>\n",
              "    </tr>\n",
              "    <tr>\n",
              "      <th>4</th>\n",
              "      <td>2020-08-20</td>\n",
              "      <td>115.750000</td>\n",
              "      <td>118.392502</td>\n",
              "      <td>115.732498</td>\n",
              "      <td>118.275002</td>\n",
              "      <td>117.519142</td>\n",
              "      <td>126907200</td>\n",
              "    </tr>\n",
              "  </tbody>\n",
              "</table>\n",
              "</div>"
            ],
            "text/plain": [
              "         Date        Open        High  ...       Close   Adj Close     Volume\n",
              "0  2020-08-14  114.830002  115.000000  ...  114.907501  114.173164  165565200\n",
              "1  2020-08-17  116.062500  116.087502  ...  114.607498  113.875069  119561600\n",
              "2  2020-08-18  114.352501  116.000000  ...  115.562500  114.823975  105633600\n",
              "3  2020-08-19  115.982498  117.162498  ...  115.707497  114.968048  145538000\n",
              "4  2020-08-20  115.750000  118.392502  ...  118.275002  117.519142  126907200\n",
              "\n",
              "[5 rows x 7 columns]"
            ]
          },
          "metadata": {},
          "execution_count": 24
        }
      ]
    },
    {
      "cell_type": "code",
      "metadata": {
        "id": "KGm5tRfiIPdu"
      },
      "source": [
        "train_dates=pd.to_datetime(df[\"Date\"])"
      ],
      "execution_count": 25,
      "outputs": []
    },
    {
      "cell_type": "code",
      "metadata": {
        "id": "kcr3Hk3gwKeq",
        "colab": {
          "base_uri": "https://localhost:8080/"
        },
        "outputId": "34c8ecd4-ee35-48f6-9262-6ba5c58295c4"
      },
      "source": [
        "(train_dates)"
      ],
      "execution_count": 26,
      "outputs": [
        {
          "output_type": "execute_result",
          "data": {
            "text/plain": [
              "0     2020-08-14\n",
              "1     2020-08-17\n",
              "2     2020-08-18\n",
              "3     2020-08-19\n",
              "4     2020-08-20\n",
              "         ...    \n",
              "247   2021-08-09\n",
              "248   2021-08-10\n",
              "249   2021-08-11\n",
              "250   2021-08-12\n",
              "251   2021-08-13\n",
              "Name: Date, Length: 252, dtype: datetime64[ns]"
            ]
          },
          "metadata": {},
          "execution_count": 26
        }
      ]
    },
    {
      "cell_type": "code",
      "metadata": {
        "id": "mnLiinupIXgJ"
      },
      "source": [
        "col=list(df)[1:6]\n",
        "df_training=df[col].astype(float)"
      ],
      "execution_count": 27,
      "outputs": []
    },
    {
      "cell_type": "code",
      "metadata": {
        "id": "GU7l0tpw8uB_",
        "colab": {
          "base_uri": "https://localhost:8080/",
          "height": 417
        },
        "outputId": "02df42a7-acba-4ec7-c57b-2546aa653724"
      },
      "source": [
        "df_training"
      ],
      "execution_count": 28,
      "outputs": [
        {
          "output_type": "execute_result",
          "data": {
            "text/html": [
              "<div>\n",
              "<style scoped>\n",
              "    .dataframe tbody tr th:only-of-type {\n",
              "        vertical-align: middle;\n",
              "    }\n",
              "\n",
              "    .dataframe tbody tr th {\n",
              "        vertical-align: top;\n",
              "    }\n",
              "\n",
              "    .dataframe thead th {\n",
              "        text-align: right;\n",
              "    }\n",
              "</style>\n",
              "<table border=\"1\" class=\"dataframe\">\n",
              "  <thead>\n",
              "    <tr style=\"text-align: right;\">\n",
              "      <th></th>\n",
              "      <th>Open</th>\n",
              "      <th>High</th>\n",
              "      <th>Low</th>\n",
              "      <th>Close</th>\n",
              "      <th>Adj Close</th>\n",
              "    </tr>\n",
              "  </thead>\n",
              "  <tbody>\n",
              "    <tr>\n",
              "      <th>0</th>\n",
              "      <td>114.830002</td>\n",
              "      <td>115.000000</td>\n",
              "      <td>113.044998</td>\n",
              "      <td>114.907501</td>\n",
              "      <td>114.173164</td>\n",
              "    </tr>\n",
              "    <tr>\n",
              "      <th>1</th>\n",
              "      <td>116.062500</td>\n",
              "      <td>116.087502</td>\n",
              "      <td>113.962502</td>\n",
              "      <td>114.607498</td>\n",
              "      <td>113.875069</td>\n",
              "    </tr>\n",
              "    <tr>\n",
              "      <th>2</th>\n",
              "      <td>114.352501</td>\n",
              "      <td>116.000000</td>\n",
              "      <td>114.007500</td>\n",
              "      <td>115.562500</td>\n",
              "      <td>114.823975</td>\n",
              "    </tr>\n",
              "    <tr>\n",
              "      <th>3</th>\n",
              "      <td>115.982498</td>\n",
              "      <td>117.162498</td>\n",
              "      <td>115.610001</td>\n",
              "      <td>115.707497</td>\n",
              "      <td>114.968048</td>\n",
              "    </tr>\n",
              "    <tr>\n",
              "      <th>4</th>\n",
              "      <td>115.750000</td>\n",
              "      <td>118.392502</td>\n",
              "      <td>115.732498</td>\n",
              "      <td>118.275002</td>\n",
              "      <td>117.519142</td>\n",
              "    </tr>\n",
              "    <tr>\n",
              "      <th>...</th>\n",
              "      <td>...</td>\n",
              "      <td>...</td>\n",
              "      <td>...</td>\n",
              "      <td>...</td>\n",
              "      <td>...</td>\n",
              "    </tr>\n",
              "    <tr>\n",
              "      <th>247</th>\n",
              "      <td>146.199997</td>\n",
              "      <td>146.699997</td>\n",
              "      <td>145.520004</td>\n",
              "      <td>146.089996</td>\n",
              "      <td>146.089996</td>\n",
              "    </tr>\n",
              "    <tr>\n",
              "      <th>248</th>\n",
              "      <td>146.440002</td>\n",
              "      <td>147.710007</td>\n",
              "      <td>145.300003</td>\n",
              "      <td>145.600006</td>\n",
              "      <td>145.600006</td>\n",
              "    </tr>\n",
              "    <tr>\n",
              "      <th>249</th>\n",
              "      <td>146.050003</td>\n",
              "      <td>146.720001</td>\n",
              "      <td>145.529999</td>\n",
              "      <td>145.860001</td>\n",
              "      <td>145.860001</td>\n",
              "    </tr>\n",
              "    <tr>\n",
              "      <th>250</th>\n",
              "      <td>146.190002</td>\n",
              "      <td>149.050003</td>\n",
              "      <td>145.839996</td>\n",
              "      <td>148.889999</td>\n",
              "      <td>148.889999</td>\n",
              "    </tr>\n",
              "    <tr>\n",
              "      <th>251</th>\n",
              "      <td>148.970001</td>\n",
              "      <td>149.440002</td>\n",
              "      <td>148.270004</td>\n",
              "      <td>149.100006</td>\n",
              "      <td>149.100006</td>\n",
              "    </tr>\n",
              "  </tbody>\n",
              "</table>\n",
              "<p>252 rows × 5 columns</p>\n",
              "</div>"
            ],
            "text/plain": [
              "           Open        High         Low       Close   Adj Close\n",
              "0    114.830002  115.000000  113.044998  114.907501  114.173164\n",
              "1    116.062500  116.087502  113.962502  114.607498  113.875069\n",
              "2    114.352501  116.000000  114.007500  115.562500  114.823975\n",
              "3    115.982498  117.162498  115.610001  115.707497  114.968048\n",
              "4    115.750000  118.392502  115.732498  118.275002  117.519142\n",
              "..          ...         ...         ...         ...         ...\n",
              "247  146.199997  146.699997  145.520004  146.089996  146.089996\n",
              "248  146.440002  147.710007  145.300003  145.600006  145.600006\n",
              "249  146.050003  146.720001  145.529999  145.860001  145.860001\n",
              "250  146.190002  149.050003  145.839996  148.889999  148.889999\n",
              "251  148.970001  149.440002  148.270004  149.100006  149.100006\n",
              "\n",
              "[252 rows x 5 columns]"
            ]
          },
          "metadata": {},
          "execution_count": 28
        }
      ]
    },
    {
      "cell_type": "code",
      "metadata": {
        "id": "yQtrXJhRIXjJ"
      },
      "source": [
        "scaler=StandardScaler()\n",
        "scaler=scaler.fit(df_training)\n",
        "df_training=scaler.transform(df_training)"
      ],
      "execution_count": 29,
      "outputs": []
    },
    {
      "cell_type": "code",
      "metadata": {
        "id": "AFJI7pdtYtxL"
      },
      "source": [
        ""
      ],
      "execution_count": 29,
      "outputs": []
    },
    {
      "cell_type": "code",
      "metadata": {
        "id": "fIHvUcYiIXmT"
      },
      "source": [
        "trainX=[]\n",
        "trainY=[]\n",
        "\n",
        "n_future=1\n",
        "n_past=15\n"
      ],
      "execution_count": 30,
      "outputs": []
    },
    {
      "cell_type": "code",
      "metadata": {
        "id": "WNCbKtPXJBG0"
      },
      "source": [
        "for i in range(n_past,len(df_training) - n_future+1):\n",
        "  \n",
        "  trainX.append(df_training[i-n_past:i, 0:df_training.shape[1]])\n",
        "  trainY.append(df_training[i+n_future-1:i+n_future,0])\n"
      ],
      "execution_count": 31,
      "outputs": []
    },
    {
      "cell_type": "code",
      "metadata": {
        "id": "o7omVpcCJBJn"
      },
      "source": [
        "trainX=np.array(trainX)\n",
        "trainY=np.array(trainY)"
      ],
      "execution_count": 32,
      "outputs": []
    },
    {
      "cell_type": "code",
      "metadata": {
        "id": "PsFOusasJBMB",
        "colab": {
          "base_uri": "https://localhost:8080/"
        },
        "outputId": "b9887fc0-64f1-444e-af15-ff7e77ba10a2"
      },
      "source": [
        "trainX.shape"
      ],
      "execution_count": 33,
      "outputs": [
        {
          "output_type": "execute_result",
          "data": {
            "text/plain": [
              "(237, 15, 5)"
            ]
          },
          "metadata": {},
          "execution_count": 33
        }
      ]
    },
    {
      "cell_type": "code",
      "metadata": {
        "id": "-KIQHZWDJBOj"
      },
      "source": [
        ""
      ],
      "execution_count": 33,
      "outputs": []
    },
    {
      "cell_type": "code",
      "metadata": {
        "id": "nn6LdQD3JBQr"
      },
      "source": [
        "model=Sequential()\n",
        "model.add(LSTM(256,activation=\"relu\", input_shape=(trainX.shape[1],trainX.shape[2]),return_sequences=True))\n",
        "model.add(LSTM(64,activation=\"relu\",return_sequences=True))\n",
        "model.add(LSTM(32,activation=\"relu\",return_sequences=True))\n",
        "model.add(LSTM(16,activation=\"relu\",return_sequences=False))\n",
        "model.add(Dropout(0.2))\n",
        "model.add(Dense(trainY.shape[1]))\n",
        "\n",
        "model.compile(optimizer='adam', loss='mse')\n",
        "model.summary()"
      ],
      "execution_count": null,
      "outputs": []
    },
    {
      "cell_type": "code",
      "metadata": {
        "id": "OH8cWHJmJBS_"
      },
      "source": [
        "history = model.fit(trainX, trainY, epochs=100, batch_size=16, validation_split=0.1, verbose=1)"
      ],
      "execution_count": null,
      "outputs": []
    },
    {
      "cell_type": "code",
      "metadata": {
        "id": "gVSqtRPNJBV2"
      },
      "source": [
        "n_past = 16\n",
        "n_days_for_prediction=50  #let us predict past 15 days\n",
        "from pandas.tseries.holiday import USFederalHolidayCalendar\n",
        "from pandas.tseries.offsets import CustomBusinessDay\n",
        "us_bd = CustomBusinessDay(calendar=USFederalHolidayCalendar())\n",
        "\n",
        "predict_period_dates = pd.date_range(list(train_dates)[-n_past], periods=n_days_for_prediction, freq=us_bd).tolist()\n"
      ],
      "execution_count": 36,
      "outputs": []
    },
    {
      "cell_type": "code",
      "metadata": {
        "id": "ukVP9RJ1JBYG"
      },
      "source": [
        "predict_period_dates=np.asarray(predict_period_dates)\n",
        "predict_period_dates"
      ],
      "execution_count": null,
      "outputs": []
    },
    {
      "cell_type": "code",
      "metadata": {
        "id": "zFE64OZiKnZa",
        "colab": {
          "base_uri": "https://localhost:8080/",
          "height": 282
        },
        "outputId": "11d6092f-d3fd-4e1b-c24d-89b2c21e3cf1"
      },
      "source": [
        "plt.plot(history.history['loss'], label='Training loss')\n",
        "plt.plot(history.history['val_loss'], label='Validation loss')\n",
        "plt.legend()\n"
      ],
      "execution_count": 38,
      "outputs": [
        {
          "output_type": "execute_result",
          "data": {
            "text/plain": [
              "<matplotlib.legend.Legend at 0x7faa0a269810>"
            ]
          },
          "metadata": {},
          "execution_count": 38
        },
        {
          "output_type": "display_data",
          "data": {
            "image/png": "[encoded data removed]",
            "text/plain": [
              "<Figure size 432x288 with 1 Axes>"
            ]
          },
          "metadata": {
            "needs_background": "light"
          }
        }
      ]
    },
    {
      "cell_type": "code",
      "metadata": {
        "id": "E1qGfvsmXgAX"
      },
      "source": [
        "prediction = model.predict(trainX[-n_days_for_prediction:])"
      ],
      "execution_count": 39,
      "outputs": []
    },
    {
      "cell_type": "code",
      "metadata": {
        "id": "FT-mA4BVn3Cg"
      },
      "source": [
        "prediction"
      ],
      "execution_count": null,
      "outputs": []
    },
    {
      "cell_type": "code",
      "metadata": {
        "id": "oQ7p3rDOYKCr"
      },
      "source": [
        "prediction_copies = np.repeat(prediction, df_training.shape[1], axis=-1)"
      ],
      "execution_count": 41,
      "outputs": []
    },
    {
      "cell_type": "code",
      "metadata": {
        "id": "njnEWVECXgCv"
      },
      "source": [
        "y_pred_future = scaler.inverse_transform(prediction_copies)"
      ],
      "execution_count": 42,
      "outputs": []
    },
    {
      "cell_type": "code",
      "metadata": {
        "id": "TDEzMopeYfyf",
        "colab": {
          "base_uri": "https://localhost:8080/"
        },
        "outputId": "031a331e-fae2-4dbd-9a1a-2e1c51d33c1b"
      },
      "source": [
        "y_pred_future=y_pred_future[:,0]\n",
        "y_pred_future"
      ],
      "execution_count": 43,
      "outputs": [
        {
          "output_type": "execute_result",
          "data": {
            "text/plain": [
              "array([124.68695, 126.00365, 126.40102, 127.29284, 127.51081, 126.91617,\n",
              "       127.33069, 130.1441 , 130.38965, 130.41791, 131.98268, 130.89355,\n",
              "       132.00421, 134.03328, 134.01422, 133.60011, 133.03578, 134.71992,\n",
              "       136.3031 , 137.03654, 136.78148, 140.30865, 142.4102 , 144.01047,\n",
              "       139.06635, 145.70848, 144.00398, 145.25125, 149.88997, 142.34442,\n",
              "       143.14528, 137.01189, 151.41736, 136.01804, 150.3839 , 144.04666,\n",
              "       145.54184, 138.16994, 142.6825 , 146.48877, 140.3261 , 144.82527,\n",
              "       147.3952 , 140.20734, 146.80583, 140.65306, 145.43735, 142.01004,\n",
              "       144.53773, 149.90007], dtype=float32)"
            ]
          },
          "metadata": {},
          "execution_count": 43
        }
      ]
    },
    {
      "cell_type": "code",
      "metadata": {
        "id": "VHyDaAFEXgE5"
      },
      "source": [
        "forecast_dates = []\n",
        "for time_i in predict_period_dates:\n",
        "    forecast_dates.append(time_i.date())\n",
        " "
      ],
      "execution_count": 44,
      "outputs": []
    },
    {
      "cell_type": "code",
      "metadata": {
        "id": "Y1KUkQA4a1wM"
      },
      "source": [
        "forecast_dates"
      ],
      "execution_count": null,
      "outputs": []
    },
    {
      "cell_type": "code",
      "metadata": {
        "id": "amr7zwcRZuD7",
        "colab": {
          "base_uri": "https://localhost:8080/"
        },
        "outputId": "a3e5e6cd-4b42-4a1e-cff8-ac5b014676f6"
      },
      "source": [
        "params={'Date':np.array(forecast_dates), 'Open':y_pred_future}\n",
        "\n",
        "y_pred_future"
      ],
      "execution_count": 46,
      "outputs": [
        {
          "output_type": "execute_result",
          "data": {
            "text/plain": [
              "array([124.68695, 126.00365, 126.40102, 127.29284, 127.51081, 126.91617,\n",
              "       127.33069, 130.1441 , 130.38965, 130.41791, 131.98268, 130.89355,\n",
              "       132.00421, 134.03328, 134.01422, 133.60011, 133.03578, 134.71992,\n",
              "       136.3031 , 137.03654, 136.78148, 140.30865, 142.4102 , 144.01047,\n",
              "       139.06635, 145.70848, 144.00398, 145.25125, 149.88997, 142.34442,\n",
              "       143.14528, 137.01189, 151.41736, 136.01804, 150.3839 , 144.04666,\n",
              "       145.54184, 138.16994, 142.6825 , 146.48877, 140.3261 , 144.82527,\n",
              "       147.3952 , 140.20734, 146.80583, 140.65306, 145.43735, 142.01004,\n",
              "       144.53773, 149.90007], dtype=float32)"
            ]
          },
          "metadata": {},
          "execution_count": 46
        }
      ]
    },
    {
      "cell_type": "code",
      "metadata": {
        "id": "U-hnqZwwdjNc",
        "colab": {
          "base_uri": "https://localhost:8080/"
        },
        "outputId": "46ee28fb-cf05-4844-9b37-fb5834fa4f3d"
      },
      "source": [
        "df_forecast=y_pred_future\n",
        "df_forecast.shape"
      ],
      "execution_count": 47,
      "outputs": [
        {
          "output_type": "execute_result",
          "data": {
            "text/plain": [
              "(50,)"
            ]
          },
          "metadata": {},
          "execution_count": 47
        }
      ]
    },
    {
      "cell_type": "code",
      "metadata": {
        "id": "1sqCOHuTad_u"
      },
      "source": [
        "df_forecast = pd.DataFrame({'Date':np.array(forecast_dates), 'Open':y_pred_future})\n",
        "df_forecast['Date']=pd.to_datetime(df_forecast['Date'])\n",
        "\n"
      ],
      "execution_count": 48,
      "outputs": []
    },
    {
      "cell_type": "code",
      "metadata": {
        "id": "d-3WXBAxmA10",
        "colab": {
          "base_uri": "https://localhost:8080/"
        },
        "outputId": "c8b87de5-bbb0-414d-85e4-16996a2582df"
      },
      "source": [
        "original = df[['Date', 'Open']]\n",
        "original['Date']=pd.to_datetime(original['Date'])\n"
      ],
      "execution_count": 49,
      "outputs": [
        {
          "output_type": "stream",
          "name": "stderr",
          "text": [
            "/usr/local/lib/python3.7/dist-packages/ipykernel_launcher.py:2: SettingWithCopyWarning: \n",
            "A value is trying to be set on a copy of a slice from a DataFrame.\n",
            "Try using .loc[row_indexer,col_indexer] = value instead\n",
            "\n",
            "See the caveats in the documentation: https://pandas.pydata.org/pandas-docs/stable/user_guide/indexing.html#returning-a-view-versus-a-copy\n",
            "  \n"
          ]
        }
      ]
    },
    {
      "cell_type": "code",
      "metadata": {
        "id": "mD9hJnPFG8HG"
      },
      "source": [
        "original=original.loc[60:,:]"
      ],
      "execution_count": 50,
      "outputs": []
    },
    {
      "cell_type": "code",
      "metadata": {
        "id": "0D8Y1fKtJnPl",
        "colab": {
          "base_uri": "https://localhost:8080/"
        },
        "outputId": "2c7c7a1c-9027-4dee-8572-422e1218cb26"
      },
      "source": [
        "y_pred_future"
      ],
      "execution_count": 51,
      "outputs": [
        {
          "output_type": "execute_result",
          "data": {
            "text/plain": [
              "array([124.68695, 126.00365, 126.40102, 127.29284, 127.51081, 126.91617,\n",
              "       127.33069, 130.1441 , 130.38965, 130.41791, 131.98268, 130.89355,\n",
              "       132.00421, 134.03328, 134.01422, 133.60011, 133.03578, 134.71992,\n",
              "       136.3031 , 137.03654, 136.78148, 140.30865, 142.4102 , 144.01047,\n",
              "       139.06635, 145.70848, 144.00398, 145.25125, 149.88997, 142.34442,\n",
              "       143.14528, 137.01189, 151.41736, 136.01804, 150.3839 , 144.04666,\n",
              "       145.54184, 138.16994, 142.6825 , 146.48877, 140.3261 , 144.82527,\n",
              "       147.3952 , 140.20734, 146.80583, 140.65306, 145.43735, 142.01004,\n",
              "       144.53773, 149.90007], dtype=float32)"
            ]
          },
          "metadata": {},
          "execution_count": 51
        }
      ]
    },
    {
      "cell_type": "code",
      "metadata": {
        "id": "6wPt-BxypAAL",
        "colab": {
          "base_uri": "https://localhost:8080/"
        },
        "outputId": "5a8bce34-fdf3-46f7-c787-1861a268a1ec"
      },
      "source": [
        "original.shape"
      ],
      "execution_count": 52,
      "outputs": [
        {
          "output_type": "execute_result",
          "data": {
            "text/plain": [
              "(192, 2)"
            ]
          },
          "metadata": {},
          "execution_count": 52
        }
      ]
    },
    {
      "cell_type": "code",
      "metadata": {
        "id": "w8eTWiJdXgJf",
        "colab": {
          "base_uri": "https://localhost:8080/",
          "height": 546
        },
        "outputId": "238823e6-724a-4f24-977c-48db7227fe64"
      },
      "source": [
        "import seaborn as sns\n",
        "plt.figure(figsize=[15,7])\n",
        "sns.lineplot(original['Date'], original['Open'])\n",
        "sns.lineplot(df_forecast['Date'], df_forecast['Open'])\n",
        "\n"
      ],
      "execution_count": 53,
      "outputs": [
        {
          "output_type": "stream",
          "name": "stderr",
          "text": [
            "/usr/local/lib/python3.7/dist-packages/seaborn/_decorators.py:43: FutureWarning: Pass the following variables as keyword args: x, y. From version 0.12, the only valid positional argument will be `data`, and passing other arguments without an explicit keyword will result in an error or misinterpretation.\n",
            "  FutureWarning\n",
            "/usr/local/lib/python3.7/dist-packages/seaborn/_decorators.py:43: FutureWarning: Pass the following variables as keyword args: x, y. From version 0.12, the only valid positional argument will be `data`, and passing other arguments without an explicit keyword will result in an error or misinterpretation.\n",
            "  FutureWarning\n"
          ]
        },
        {
          "output_type": "execute_result",
          "data": {
            "text/plain": [
              "<matplotlib.axes._subplots.AxesSubplot at 0x7faa0a28e110>"
            ]
          },
          "metadata": {},
          "execution_count": 53
        },
        {
          "output_type": "display_data",
          "data": {
            "image/png": "[encoded data removed]",
            "text/plain": [
              "<Figure size 1080x504 with 1 Axes>"
            ]
          },
          "metadata": {
            "needs_background": "light"
          }
        }
      ]
    },
    {
      "cell_type": "code",
      "metadata": {
        "id": "eXXu1_iBl01z"
      },
      "source": [
        ""
      ],
      "execution_count": 53,
      "outputs": []
    },
    {
      "cell_type": "code",
      "metadata": {
        "id": "UqA4YnVvMLdx",
        "colab": {
          "base_uri": "https://localhost:8080/",
          "height": 546
        },
        "outputId": "b9ea8e5c-894b-4ae7-b31b-bc69488d0822"
      },
      "source": [
        "plt.figure(figsize=[15,7])\n",
        "sns.lineplot(original['Date'], original['Open'])\n",
        "sns.lineplot(df_forecast['Date'], df_forecast['Open'])"
      ],
      "execution_count": 54,
      "outputs": [
        {
          "output_type": "stream",
          "name": "stderr",
          "text": [
            "/usr/local/lib/python3.7/dist-packages/seaborn/_decorators.py:43: FutureWarning: Pass the following variables as keyword args: x, y. From version 0.12, the only valid positional argument will be `data`, and passing other arguments without an explicit keyword will result in an error or misinterpretation.\n",
            "  FutureWarning\n",
            "/usr/local/lib/python3.7/dist-packages/seaborn/_decorators.py:43: FutureWarning: Pass the following variables as keyword args: x, y. From version 0.12, the only valid positional argument will be `data`, and passing other arguments without an explicit keyword will result in an error or misinterpretation.\n",
            "  FutureWarning\n"
          ]
        },
        {
          "output_type": "execute_result",
          "data": {
            "text/plain": [
              "<matplotlib.axes._subplots.AxesSubplot at 0x7faa06b7cd50>"
            ]
          },
          "metadata": {},
          "execution_count": 54
        },
        {
          "output_type": "display_data",
          "data": {
            "image/png": "[encoded data removed]",
            "text/plain": [
              "<Figure size 1080x504 with 1 Axes>"
            ]
          },
          "metadata": {
            "needs_background": "light"
          }
        }
      ]
    }
  ]
}